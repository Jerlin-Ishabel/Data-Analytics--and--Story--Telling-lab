{
 "cells": [
  {
   "cell_type": "markdown",
   "id": "06ab9bda-16f0-4819-8500-4ad5c789256c",
   "metadata": {},
   "source": [
    "# Exercise: Time Series Analysis with Pandas"
   ]
  },
  {
   "cell_type": "code",
   "execution_count": null,
   "id": "baeacece-f1d9-4d2b-8b26-cdf8d3a047f6",
   "metadata": {},
   "outputs": [],
   "source": [
    "import pandas as pd\n",
    "import matplotlib.pyplot as plt\n",
    "# Load the dataset\n",
    "\n",
    "# Note: Replace 'sales_data.csv' with the path to your dataset.\n",
    "df = pd.read_csv('sales_data.csv')\n",
    "# Convert 'Date' column to datetime\n",
    "df['Date'] = pd.to_datetime(df['Date'])\n",
    "# Set the 'Date' column as the index\n",
    "df.set_index('Date', inplace=True)\n",
    "# Display the first few rows of the dataset\n",
    "print(\"First 5 Rows of the Dataset:\")\n",
    "print(df.head())\n",
    "# 1. Plotting the Time Series\n",
    "plt.figure(figsize=(12, 6))\n",
    "plt.plot(df.index, df['Sales'], marker='o')\n",
    "plt.title('Sales Over Time')\n",
    "plt.xlabel('Date')\n",
    "plt.ylabel('Sales')\n",
    "plt.xticks(rotation=45)\n",
    "plt.grid()\n",
    "plt.show()\n",
    "# 2. Resampling the Time Series Data to Daily Frequency\n",
    "daily_sales = df.resample('D').sum() # Daily frequency\n",
    "print(\"\\nDaily Sales Summary:\")\n",
    "print(daily_sales)\n",
    "# 3. Resampling to Weekly Frequency\n",
    "weekly_sales = df.resample('W').sum() # Weekly frequency\n",
    "print(\"\\nWeekly Sales Summary:\")\n",
    "print(weekly_sales)\n",
    "# 4. Resampling to Monthly Frequency\n",
    "\n",
    "monthly_sales = df.resample('M').sum() # Monthly frequency\n",
    "print(\"\\nMonthly Sales Summary:\")\n",
    "print(monthly_sales)\n",
    "# 5. Plotting Resampled Data\n",
    "plt.figure(figsize=(12, 6))\n",
    "plt.plot(daily_sales.index, daily_sales['Sales'], label='Daily Sales', marker='o')\n",
    "plt.plot(weekly_sales.index, weekly_sales['Sales'], label='Weekly Sales', marker='s')\n",
    "plt.plot(monthly_sales.index, monthly_sales['Sales'], label='Monthly Sales', marker='x')\n",
    "plt.title('Sales Resampling')\n",
    "plt.xlabel('Date')\n",
    "plt.ylabel('Sales')\n",
    "plt.xticks(rotation=45)\n",
    "plt.legend()\n",
    "plt.grid()\n",
    "plt.show()\n",
    "# 6. Calculating Rolling Mean\n",
    "rolling_mean = df['Sales'].rolling(window=3).mean() # 3-day rolling mean\n",
    "plt.figure(figsize=(12, 6))\n",
    "plt.plot(df.index, df['Sales'], label='Sales', marker='o')\n",
    "plt.plot(df.index, rolling_mean, label='3-Day Rolling Mean', color='orange')\n",
    "plt.title('Sales with 3-Day Rolling Mean')\n",
    "plt.xlabel('Date')\n",
    "plt.ylabel('Sales')\n",
    "plt.xticks(rotation=45)\n",
    "plt.legend()\n",
    "plt.grid()\n",
    "plt.show()\n",
    "\n",
    "print(\"Time series analysis completed successfully.\")"
   ]
  }
 ],
 "metadata": {
  "kernelspec": {
   "display_name": "Python 3 (ipykernel)",
   "language": "python",
   "name": "python3"
  },
  "language_info": {
   "codemirror_mode": {
    "name": "ipython",
    "version": 3
   },
   "file_extension": ".py",
   "mimetype": "text/x-python",
   "name": "python",
   "nbconvert_exporter": "python",
   "pygments_lexer": "ipython3",
   "version": "3.13.0"
  }
 },
 "nbformat": 4,
 "nbformat_minor": 5
}
