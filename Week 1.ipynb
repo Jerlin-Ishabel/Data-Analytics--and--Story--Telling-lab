{
 "cells": [
  {
   "cell_type": "markdown",
   "id": "da556cc1",
   "metadata": {},
   "source": [
    "# week 1: Basic Program"
   ]
  },
  {
   "cell_type": "markdown",
   "id": "e6b1f712",
   "metadata": {},
   "source": [
    "# 1.Basic Array Operations"
   ]
  },
  {
   "cell_type": "code",
   "execution_count": 1,
   "id": "c985cb81",
   "metadata": {},
   "outputs": [
    {
     "name": "stdout",
     "output_type": "stream",
     "text": [
      "Array: [1 2 3 4 5]\n",
      "Add 5: [ 6  7  8  9 10]\n",
      "Multiply by 2: [ 2  4  6  8 10]\n"
     ]
    }
   ],
   "source": [
    "import numpy as np\n",
    "arr=np.array([1,2,3,4,5])\n",
    "print(\"Array:\",arr)\n",
    "print(\"Add 5:\",arr+5)\n",
    "print(\"Multiply by 2:\",arr*2)"
   ]
  },
  {
   "cell_type": "markdown",
   "id": "f23e9454",
   "metadata": {},
   "source": [
    "# 2.Calculate Mean,Median and Standard Deviation\n"
   ]
  },
  {
   "cell_type": "code",
   "execution_count": 3,
   "id": "fa90bb94",
   "metadata": {},
   "outputs": [
    {
     "name": "stdout",
     "output_type": "stream",
     "text": [
      "Mean: 5.5\n",
      "Median: 5.5\n",
      "Standard Deviation: 2.8722813232690143\n"
     ]
    }
   ],
   "source": [
    "arr=np.array([1,2,3,4,5,6,7,8,9,10])\n",
    "print(\"Mean:\",np.mean(arr))\n",
    "print(\"Median:\",np.median(arr))\n",
    "print(\"Standard Deviation:\",np.std(arr))"
   ]
  },
  {
   "cell_type": "markdown",
   "id": "7191eb6a",
   "metadata": {},
   "source": [
    "# 3.Reshaping Arrays"
   ]
  },
  {
   "cell_type": "code",
   "execution_count": 4,
   "id": "39812ded",
   "metadata": {},
   "outputs": [
    {
     "name": "stdout",
     "output_type": "stream",
     "text": [
      "Reshaped Array:\n",
      " [[ 1  2  3  4]\n",
      " [ 5  6  7  8]\n",
      " [ 9 10 11 12]]\n"
     ]
    }
   ],
   "source": [
    "arr=np.arange(1,13)\n",
    "reshaped_arr=arr.reshape(3,4)\n",
    "print(\"Reshaped Array:\\n\",reshaped_arr)"
   ]
  },
  {
   "cell_type": "markdown",
   "id": "81c09082",
   "metadata": {},
   "source": [
    "# 4.Array Indexing"
   ]
  },
  {
   "cell_type": "code",
   "execution_count": 5,
   "id": "5ace3473",
   "metadata": {},
   "outputs": [
    {
     "name": "stdout",
     "output_type": "stream",
     "text": [
      "First Element: 10\n",
      "Last Element: 50\n",
      "Slice(1 to 3): [20 30 40]\n"
     ]
    }
   ],
   "source": [
    "arr=np.array([10,20,30,40,50])\n",
    "print(\"First Element:\",arr[0])\n",
    "print(\"Last Element:\",arr[-1])\n",
    "print(\"Slice(1 to 3):\",arr[1:4])"
   ]
  },
  {
   "cell_type": "markdown",
   "id": "470a732b",
   "metadata": {},
   "source": [
    "# 5.Array Concatenation"
   ]
  },
  {
   "cell_type": "code",
   "execution_count": 6,
   "id": "f5e54279",
   "metadata": {},
   "outputs": [
    {
     "name": "stdout",
     "output_type": "stream",
     "text": [
      "concatenated Array: [1 2 3 4 5 6]\n"
     ]
    }
   ],
   "source": [
    "arr1=np.array([1,2,3])\n",
    "arr2=np.array([4,5,6])\n",
    "concatenated=np.concatenate((arr1,arr2))\n",
    "print(\"concatenated Array:\",concatenated)"
   ]
  },
  {
   "cell_type": "markdown",
   "id": "58e55428",
   "metadata": {},
   "source": [
    "# 6.Boolean Indexing"
   ]
  },
  {
   "cell_type": "code",
   "execution_count": 8,
   "id": "517d5785",
   "metadata": {},
   "outputs": [
    {
     "name": "stdout",
     "output_type": "stream",
     "text": [
      "filtered array(greater than 2): [3 4 5]\n"
     ]
    }
   ],
   "source": [
    "arr=np.array([1,2,3,4,5])\n",
    "filtered_arr=arr[arr>2]\n",
    "print(\"filtered array(greater than 2):\",filtered_arr)"
   ]
  },
  {
   "cell_type": "markdown",
   "id": "a84534b5",
   "metadata": {},
   "source": [
    "# 7.Dot Product"
   ]
  },
  {
   "cell_type": "code",
   "execution_count": 10,
   "id": "6b2e15bb",
   "metadata": {},
   "outputs": [
    {
     "name": "stdout",
     "output_type": "stream",
     "text": [
      "Dot Product: 32\n"
     ]
    }
   ],
   "source": [
    "arr1=np.array([1,2,3])\n",
    "arr2=np.array([4,5,6])\n",
    "dot_product=np.dot(arr1,arr2)\n",
    "print(\"Dot Product:\",dot_product)"
   ]
  },
  {
   "cell_type": "markdown",
   "id": "e2e6d089",
   "metadata": {},
   "source": [
    "# 8.Linear Algebra Operation"
   ]
  },
  {
   "cell_type": "code",
   "execution_count": 11,
   "id": "76c82fd0",
   "metadata": {},
   "outputs": [
    {
     "name": "stdout",
     "output_type": "stream",
     "text": [
      "Determinant: -2.0000000000000004\n",
      "Inverse:\n",
      " [[-2.   1. ]\n",
      " [ 1.5 -0.5]]\n"
     ]
    }
   ],
   "source": [
    "matrix=np.array([[1,2],[3,4]])\n",
    "determinant=np.linalg.det(matrix)\n",
    "inverse=np.linalg.inv(matrix)\n",
    "print(\"Determinant:\",determinant)\n",
    "print(\"Inverse:\\n\",inverse)"
   ]
  }
 ],
 "metadata": {
  "kernelspec": {
   "display_name": "Python 3 (ipykernel)",
   "language": "python",
   "name": "python3"
  },
  "language_info": {
   "codemirror_mode": {
    "name": "ipython",
    "version": 3
   },
   "file_extension": ".py",
   "mimetype": "text/x-python",
   "name": "python",
   "nbconvert_exporter": "python",
   "pygments_lexer": "ipython3",
   "version": "3.9.12"
  }
 },
 "nbformat": 4,
 "nbformat_minor": 5
}
