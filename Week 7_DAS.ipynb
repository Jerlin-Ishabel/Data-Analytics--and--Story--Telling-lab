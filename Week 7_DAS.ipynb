{
 "cells": [
  {
   "cell_type": "markdown",
   "id": "9f06699c",
   "metadata": {},
   "source": [
    "# Week 7: How to Create CSV File and Save and Load\n",
    "\n",
    "# 1: Creating and Saving a CSV File"
   ]
  },
  {
   "cell_type": "code",
   "execution_count": 2,
   "id": "c85a6128",
   "metadata": {},
   "outputs": [
    {
     "name": "stdout",
     "output_type": "stream",
     "text": [
      "CSV file 'people.csv' created successfully.\n"
     ]
    }
   ],
   "source": [
    "import pandas as pd\n",
    "df = pd.DataFrame({\n",
    "'Name': ['Alice', 'Bob', 'Charlie'],\n",
    "'Age': [25, 30, 35],\n",
    "'City': ['New York', 'Los Angeles', 'Chicago']\n",
    "})\n",
    "df.to_csv('people.csv', index=False)\n",
    "print(\"CSV file 'people.csv' created successfully.\")"
   ]
  },
  {
   "cell_type": "markdown",
   "id": "a52c0888",
   "metadata": {},
   "source": [
    "# 2: Loading a CSV File"
   ]
  },
  {
   "cell_type": "code",
   "execution_count": 3,
   "id": "172d0dfd",
   "metadata": {},
   "outputs": [
    {
     "name": "stdout",
     "output_type": "stream",
     "text": [
      "      Name  Age         City\n",
      "0    Alice   25     New York\n",
      "1      Bob   30  Los Angeles\n",
      "2  Charlie   35      Chicago\n"
     ]
    }
   ],
   "source": [
    "loaded_df = pd.read_csv('people.csv')\n",
    "print(loaded_df)"
   ]
  },
  {
   "cell_type": "markdown",
   "id": "8f9ff46f",
   "metadata": {},
   "source": [
    "# 3: Appending to a CSV File"
   ]
  },
  {
   "cell_type": "code",
   "execution_count": 4,
   "id": "97a52b9f",
   "metadata": {},
   "outputs": [
    {
     "name": "stdout",
     "output_type": "stream",
     "text": [
      "New data appended to 'people.csv'.\n"
     ]
    }
   ],
   "source": [
    "new_data = pd.DataFrame({\n",
    "'Name': ['David', 'Eva'],\n",
    "'Age': [40, 22],\n",
    "'City': ['San Francisco', 'Seattle']\n",
    "})\n",
    "\n",
    "new_data.to_csv('people.csv', mode='a', header=False, index=False)\n",
    "print(\"New data appended to 'people.csv'.\")"
   ]
  },
  {
   "cell_type": "markdown",
   "id": "d3f9d26a",
   "metadata": {},
   "source": [
    "# 4: Reading a CSV File with Different Delimiter"
   ]
  },
  {
   "cell_type": "code",
   "execution_count": 5,
   "id": "db643771",
   "metadata": {},
   "outputs": [
    {
     "name": "stdout",
     "output_type": "stream",
     "text": [
      "            Name,Age,City\n",
      "0       Alice,25,New York\n",
      "1      Bob,30,Los Angeles\n",
      "2      Charlie,35,Chicago\n",
      "3  David,40,San Francisco\n",
      "4          Eva,22,Seattle\n"
     ]
    }
   ],
   "source": [
    "df = pd.read_csv('people.csv', delimiter=';')\n",
    "print(df)"
   ]
  },
  {
   "cell_type": "markdown",
   "id": "48501d4f",
   "metadata": {},
   "source": [
    "# 5: Loading CSV File with Custom Column Names"
   ]
  },
  {
   "cell_type": "code",
   "execution_count": 6,
   "id": "fdea938b",
   "metadata": {},
   "outputs": [
    {
     "name": "stdout",
     "output_type": "stream",
     "text": [
      "  Full Name  Age       Location\n",
      "0     Alice   25       New York\n",
      "1       Bob   30    Los Angeles\n",
      "2   Charlie   35        Chicago\n",
      "3     David   40  San Francisco\n",
      "4       Eva   22        Seattle\n"
     ]
    }
   ],
   "source": [
    "df = pd.read_csv('people.csv', names=['Full Name', 'Age', 'Location'], header=0)\n",
    "print(df)"
   ]
  }
 ],
 "metadata": {
  "kernelspec": {
   "display_name": "Python 3 (ipykernel)",
   "language": "python",
   "name": "python3"
  },
  "language_info": {
   "codemirror_mode": {
    "name": "ipython",
    "version": 3
   },
   "file_extension": ".py",
   "mimetype": "text/x-python",
   "name": "python",
   "nbconvert_exporter": "python",
   "pygments_lexer": "ipython3",
   "version": "3.9.12"
  }
 },
 "nbformat": 4,
 "nbformat_minor": 5
}
