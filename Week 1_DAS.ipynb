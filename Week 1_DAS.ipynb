{
 "cells": [
  {
   "cell_type": "markdown",
   "id": "cfc87b1f",
   "metadata": {},
   "source": [
    "# Week 1: Basic Data Analytics Using NumPy\n",
    "\n",
    "# 1: Basic Array Operations"
   ]
  },
  {
   "cell_type": "code",
   "execution_count": 1,
   "id": "e377f794",
   "metadata": {},
   "outputs": [
    {
     "name": "stdout",
     "output_type": "stream",
     "text": [
      "Array: [1 2 3 4 5]\n",
      "Add 5: [ 6  7  8  9 10]\n",
      "Multiply by 2: [ 2  4  6  8 10]\n"
     ]
    }
   ],
   "source": [
    "import numpy as np\n",
    "# Create a NumPy array\n",
    "arr = np.array([1, 2, 3, 4, 5])\n",
    "print(\"Array:\", arr)\n",
    "# Perform arithmetic operations\n",
    "print(\"Add 5:\", arr + 5)\n",
    "print(\"Multiply by 2:\", arr * 2)"
   ]
  },
  {
   "cell_type": "markdown",
   "id": "8cfb585e",
   "metadata": {},
   "source": [
    "# 2: Array Statistics"
   ]
  },
  {
   "cell_type": "code",
   "execution_count": 2,
   "id": "a0da7151",
   "metadata": {},
   "outputs": [
    {
     "name": "stdout",
     "output_type": "stream",
     "text": [
      "Mean: 5.5\n",
      "Median: 5.5\n",
      "Standard Deviation: 2.8722813232690143\n"
     ]
    }
   ],
   "source": [
    "arr = np.array([1, 2, 3, 4, 5, 6, 7, 8, 9, 10])\n",
    "print(\"Mean:\", np.mean(arr))\n",
    "print(\"Median:\", np.median(arr))\n",
    "print(\"Standard Deviation:\", np.std(arr))"
   ]
  },
  {
   "cell_type": "markdown",
   "id": "8838c94b",
   "metadata": {},
   "source": [
    "# 3: Reshaping Arrays"
   ]
  },
  {
   "cell_type": "code",
   "execution_count": 3,
   "id": "77546654",
   "metadata": {},
   "outputs": [
    {
     "name": "stdout",
     "output_type": "stream",
     "text": [
      "Reshaped Array:\n",
      " [[ 1  2  3  4]\n",
      " [ 5  6  7  8]\n",
      " [ 9 10 11 12]]\n"
     ]
    }
   ],
   "source": [
    "arr = np.arange(1, 13)\n",
    "reshaped_arr = arr.reshape(3, 4)\n",
    "print(\"Reshaped Array:\\n\", reshaped_arr)"
   ]
  },
  {
   "cell_type": "markdown",
   "id": "487e6632",
   "metadata": {},
   "source": [
    "# 4: Array Indexing"
   ]
  },
  {
   "cell_type": "code",
   "execution_count": 4,
   "id": "caa49543",
   "metadata": {},
   "outputs": [
    {
     "name": "stdout",
     "output_type": "stream",
     "text": [
      "First Element: 10\n",
      "Last Element: 50\n",
      "Slice (1 to 3): [20 30 40]\n"
     ]
    }
   ],
   "source": [
    "arr = np.array([10, 20, 30, 40, 50])\n",
    "print(\"First Element:\", arr[0])\n",
    "print(\"Last Element:\", arr[-1])\n",
    "print(\"Slice (1 to 3):\", arr[1:4])"
   ]
  },
  {
   "cell_type": "markdown",
   "id": "cb8de647",
   "metadata": {},
   "source": [
    "# 5: Array Concatenation"
   ]
  },
  {
   "cell_type": "code",
   "execution_count": 5,
   "id": "5741f320",
   "metadata": {},
   "outputs": [
    {
     "name": "stdout",
     "output_type": "stream",
     "text": [
      "Concatenated Array: [1 2 3 4 5 6]\n"
     ]
    }
   ],
   "source": [
    "arr1 = np.array([1, 2, 3])\n",
    "arr2 = np.array([4, 5, 6])\n",
    "concatenated = np.concatenate((arr1, arr2))\n",
    "print(\"Concatenated Array:\", concatenated)"
   ]
  },
  {
   "cell_type": "markdown",
   "id": "c57a7150",
   "metadata": {},
   "source": [
    "# 6: Boolean Indexing"
   ]
  },
  {
   "cell_type": "code",
   "execution_count": 6,
   "id": "2b7c511f",
   "metadata": {},
   "outputs": [
    {
     "name": "stdout",
     "output_type": "stream",
     "text": [
      "Filtered Array (greater than 2): [3 4 5]\n"
     ]
    }
   ],
   "source": [
    "arr = np.array([1, 2, 3, 4, 5])\n",
    "filtered_arr = arr[arr > 2]\n",
    "print(\"Filtered Array (greater than 2):\", filtered_arr)"
   ]
  },
  {
   "cell_type": "markdown",
   "id": "88f180ce",
   "metadata": {},
   "source": [
    "# 7: Dot Product"
   ]
  },
  {
   "cell_type": "code",
   "execution_count": 7,
   "id": "07d9d47b",
   "metadata": {},
   "outputs": [
    {
     "name": "stdout",
     "output_type": "stream",
     "text": [
      "Dot Product: 32\n"
     ]
    }
   ],
   "source": [
    "arr1 = np.array([1, 2, 3])\n",
    "arr2 = np.array([4, 5, 6])\n",
    "dot_product = np.dot(arr1, arr2)\n",
    "print(\"Dot Product:\", dot_product)"
   ]
  },
  {
   "cell_type": "markdown",
   "id": "885dbe79",
   "metadata": {},
   "source": [
    "# 8: Linear Algebra Operations"
   ]
  },
  {
   "cell_type": "code",
   "execution_count": 8,
   "id": "6475fe98",
   "metadata": {},
   "outputs": [
    {
     "name": "stdout",
     "output_type": "stream",
     "text": [
      "Determinant: -2.0000000000000004\n",
      "Inverse:\n",
      " [[-2.   1. ]\n",
      " [ 1.5 -0.5]]\n"
     ]
    }
   ],
   "source": [
    "matrix = np.array([[1, 2], [3, 4]])\n",
    "determinant = np.linalg.det(matrix)\n",
    "inverse = np.linalg.inv(matrix)\n",
    "print(\"Determinant:\", determinant)\n",
    "print(\"Inverse:\\n\", inverse)"
   ]
  }
 ],
 "metadata": {
  "kernelspec": {
   "display_name": "Python 3 (ipykernel)",
   "language": "python",
   "name": "python3"
  },
  "language_info": {
   "codemirror_mode": {
    "name": "ipython",
    "version": 3
   },
   "file_extension": ".py",
   "mimetype": "text/x-python",
   "name": "python",
   "nbconvert_exporter": "python",
   "pygments_lexer": "ipython3",
   "version": "3.9.12"
  }
 },
 "nbformat": 4,
 "nbformat_minor": 5
}
