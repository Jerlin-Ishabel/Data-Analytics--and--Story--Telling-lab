{
 "cells": [
  {
   "cell_type": "markdown",
   "id": "b0966196",
   "metadata": {},
   "source": [
    "# Week 2: Basics of Data Wrangling Features\n",
    "\n",
    "# 1: Creating a DataFrame"
   ]
  },
  {
   "cell_type": "code",
   "execution_count": 1,
   "id": "e213a6a0",
   "metadata": {},
   "outputs": [
    {
     "name": "stdout",
     "output_type": "stream",
     "text": [
      "      Name  Age         City\n",
      "0    Alice   24     New York\n",
      "1      Bob   27  Los Angeles\n",
      "2  Charlie   22      Chicago\n"
     ]
    }
   ],
   "source": [
    "import pandas as pd\n",
    "data = {'Name': ['Alice', 'Bob', 'Charlie'],\n",
    "'Age': [24, 27, 22],\n",
    "'City': ['New York', 'Los Angeles', 'Chicago']}\n",
    "df = pd.DataFrame(data)\n",
    "print(df)"
   ]
  },
  {
   "cell_type": "markdown",
   "id": "df28b5bd",
   "metadata": {},
   "source": [
    "# 2: Reading CSV Files"
   ]
  },
  {
   "cell_type": "code",
   "execution_count": 4,
   "id": "5dd1e80b",
   "metadata": {},
   "outputs": [
    {
     "name": "stdout",
     "output_type": "stream",
     "text": [
      "   Product ID    Product Name         Category   Brand   Price  \\\n",
      "0        1001  Smart Watch A1      Electronics  BrandX  199.99   \n",
      "1        1002  Wireless Mouse      Electronics  BrandY   25.99   \n",
      "2        1003  Leather Jacket          Apparel  BrandZ  149.99   \n",
      "3        1004    Coffee Maker  Home Appliances  BrandW   89.99   \n",
      "\n",
      "   Stock Quantity  Rating  \n",
      "0              50     4.5  \n",
      "1             150     4.0  \n",
      "2              30     4.8  \n",
      "3             120     4.3  \n"
     ]
    }
   ],
   "source": [
    "df = pd.read_csv('sample1.csv') # Assuming 'sample.csv' exists\n",
    "print(df.head())"
   ]
  },
  {
   "cell_type": "markdown",
   "id": "bce6e79f",
   "metadata": {},
   "source": [
    "# 3: Data Cleaning"
   ]
  },
  {
   "cell_type": "code",
   "execution_count": 5,
   "id": "d0068495",
   "metadata": {},
   "outputs": [
    {
     "name": "stdout",
     "output_type": "stream",
     "text": [
      "     A    B\n",
      "1  2.0  2.0\n",
      "3  4.0  4.0\n"
     ]
    }
   ],
   "source": [
    "df = pd.DataFrame({'A': [1, 2, None, 4], 'B': [None, 2, 3, 4]})\n",
    "df_cleaned = df.dropna()\n",
    "print(df_cleaned)"
   ]
  },
  {
   "cell_type": "markdown",
   "id": "4966fa5d",
   "metadata": {},
   "source": [
    "# 4: Filtering Data"
   ]
  },
  {
   "cell_type": "code",
   "execution_count": 6,
   "id": "1bad840b",
   "metadata": {},
   "outputs": [
    {
     "name": "stdout",
     "output_type": "stream",
     "text": [
      "   A  B\n",
      "2  3  7\n",
      "3  4  8\n"
     ]
    }
   ],
   "source": [
    "df = pd.DataFrame({'A': [1, 2, 3, 4], 'B': [5, 6, 7, 8]})\n",
    "filtered_df = df[df['A'] > 2]\n",
    "print(filtered_df)"
   ]
  },
  {
   "cell_type": "markdown",
   "id": "7043745c",
   "metadata": {},
   "source": [
    "# 5: Grouping Data"
   ]
  },
  {
   "cell_type": "code",
   "execution_count": 7,
   "id": "566647c2",
   "metadata": {},
   "outputs": [
    {
     "name": "stdout",
     "output_type": "stream",
     "text": [
      "     B\n",
      "A     \n",
      "bar  6\n",
      "foo  4\n"
     ]
    }
   ],
   "source": [
    "df = pd.DataFrame({'A': ['foo', 'bar', 'foo', 'bar'],\n",
    "'B': [1, 2, 3, 4]})\n",
    "grouped = df.groupby('A').sum()\n",
    "print(grouped)"
   ]
  },
  {
   "cell_type": "markdown",
   "id": "c9e04220",
   "metadata": {},
   "source": [
    "# 6: Merging DataFrames"
   ]
  },
  {
   "cell_type": "code",
   "execution_count": 8,
   "id": "83fa571b",
   "metadata": {},
   "outputs": [
    {
     "name": "stdout",
     "output_type": "stream",
     "text": [
      "     A  B  C\n",
      "0  foo  1  3\n",
      "1  bar  2  4\n"
     ]
    }
   ],
   "source": [
    "df1 = pd.DataFrame({'A': ['foo', 'bar'], 'B': [1, 2]})\n",
    "df2 = pd.DataFrame({'A': ['foo', 'bar'], 'C': [3, 4]})\n",
    "merged_df = pd.merge(df1, df2, on='A')\n",
    "print(merged_df)"
   ]
  },
  {
   "cell_type": "markdown",
   "id": "f1f03d39",
   "metadata": {},
   "source": [
    "# 7: Pivot Tables"
   ]
  },
  {
   "cell_type": "code",
   "execution_count": 9,
   "id": "b1dcab1e",
   "metadata": {},
   "outputs": [
    {
     "name": "stdout",
     "output_type": "stream",
     "text": [
      "B      1    2    3    4\n",
      "A                      \n",
      "bar  NaN  6.0  NaN  8.0\n",
      "foo  5.0  NaN  7.0  NaN\n"
     ]
    }
   ],
   "source": [
    "df = pd.DataFrame({'A': ['foo', 'bar', 'foo', 'bar'],\n",
    "'B': [1, 2, 3, 4],\n",
    "'C': [5, 6, 7, 8]})\n",
    "pivot_table = df.pivot_table(values='C', index='A', columns='B', aggfunc='sum')\n",
    "print(pivot_table)"
   ]
  },
  {
   "cell_type": "markdown",
   "id": "e39eee00",
   "metadata": {},
   "source": [
    "# 8: DataFrame Transformation"
   ]
  },
  {
   "cell_type": "code",
   "execution_count": 10,
   "id": "078c1512",
   "metadata": {},
   "outputs": [
    {
     "name": "stdout",
     "output_type": "stream",
     "text": [
      "    A   B\n",
      "0   1  25\n",
      "1   4  36\n",
      "2   9  49\n",
      "3  16  64\n"
     ]
    }
   ],
   "source": [
    "df = pd.DataFrame({'A': [1, 2, 3, 4], 'B': [5, 6, 7, 8]})\n",
    "transformed_df = df.transform(lambda x: x ** 2)\n",
    "\n",
    "print(transformed_df)"
   ]
  },
  {
   "cell_type": "markdown",
   "id": "8101170d",
   "metadata": {},
   "source": [
    "# 9: Handling Duplicates"
   ]
  },
  {
   "cell_type": "code",
   "execution_count": 11,
   "id": "d3641cd7",
   "metadata": {},
   "outputs": [
    {
     "name": "stdout",
     "output_type": "stream",
     "text": [
      "   A  B\n",
      "0  1  4\n",
      "2  2  5\n",
      "3  3  6\n"
     ]
    }
   ],
   "source": [
    "df = pd.DataFrame({'A': [1, 1, 2, 3], 'B': [4, 4, 5, 6]})\n",
    "df_no_duplicates = df.drop_duplicates()\n",
    "print(df_no_duplicates)"
   ]
  },
  {
   "cell_type": "markdown",
   "id": "a142d93c",
   "metadata": {},
   "source": [
    "# 10: Saving DataFrames to CSV"
   ]
  },
  {
   "cell_type": "code",
   "execution_count": 12,
   "id": "b09456ac",
   "metadata": {},
   "outputs": [
    {
     "name": "stdout",
     "output_type": "stream",
     "text": [
      "DataFrame saved to output.csv\n"
     ]
    }
   ],
   "source": [
    "df = pd.DataFrame({'A': [1, 2, 3], 'B': [4, 5, 6]})\n",
    "df.to_csv('output.csv', index=False)\n",
    "print(\"DataFrame saved to output.csv\")"
   ]
  }
 ],
 "metadata": {
  "kernelspec": {
   "display_name": "Python 3 (ipykernel)",
   "language": "python",
   "name": "python3"
  },
  "language_info": {
   "codemirror_mode": {
    "name": "ipython",
    "version": 3
   },
   "file_extension": ".py",
   "mimetype": "text/x-python",
   "name": "python",
   "nbconvert_exporter": "python",
   "pygments_lexer": "ipython3",
   "version": "3.9.12"
  }
 },
 "nbformat": 4,
 "nbformat_minor": 5
}
